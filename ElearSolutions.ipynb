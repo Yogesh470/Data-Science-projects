{
  "nbformat": 4,
  "nbformat_minor": 0,
  "metadata": {
    "colab": {
      "name": "ElearSolutions.ipynb",
      "provenance": [],
      "collapsed_sections": []
    },
    "kernelspec": {
      "name": "python3",
      "display_name": "Python 3"
    },
    "language_info": {
      "name": "python"
    }
  },
  "cells": [
    {
      "cell_type": "code",
      "metadata": {
        "id": "pybmVBb7SoEG"
      },
      "source": [
        "import pandas as pd\n",
        "import numpy as np\n",
        "import zipfile"
      ],
      "execution_count": null,
      "outputs": []
    },
    {
      "cell_type": "code",
      "metadata": {
        "id": "lirtNOLwFZ2D"
      },
      "source": [
        "local_zip='/content/69771e3c-b-dataset.zip'\n",
        "zip_ref=zipfile.ZipFile(local_zip,'r')\n",
        "zip_ref.extractall()\n",
        "zip_ref.close()\n"
      ],
      "execution_count": null,
      "outputs": []
    },
    {
      "cell_type": "code",
      "metadata": {
        "colab": {
          "base_uri": "https://localhost:8080/",
          "height": 348
        },
        "id": "_OTjGIsvFfq7",
        "outputId": "31b11d3d-f6f3-4bb0-c529-0456d0b2f1e2"
      },
      "source": [
        "df=pd.read_csv('/content/dataset/train.csv')\n",
        "df.head()"
      ],
      "execution_count": null,
      "outputs": [
        {
          "output_type": "execute_result",
          "data": {
            "text/html": [
              "<div>\n",
              "<style scoped>\n",
              "    .dataframe tbody tr th:only-of-type {\n",
              "        vertical-align: middle;\n",
              "    }\n",
              "\n",
              "    .dataframe tbody tr th {\n",
              "        vertical-align: top;\n",
              "    }\n",
              "\n",
              "    .dataframe thead th {\n",
              "        text-align: right;\n",
              "    }\n",
              "</style>\n",
              "<table border=\"1\" class=\"dataframe\">\n",
              "  <thead>\n",
              "    <tr style=\"text-align: right;\">\n",
              "      <th></th>\n",
              "      <th>Month-year</th>\n",
              "      <th>CommodityID</th>\n",
              "      <th>Production weight (in million tonnes)</th>\n",
              "      <th>Labour_availability</th>\n",
              "      <th>Govt_policy_change</th>\n",
              "      <th>Demand</th>\n",
              "      <th>Cost of production</th>\n",
              "      <th>Climatic factor 1</th>\n",
              "      <th>Climatic factor 2</th>\n",
              "      <th>Maximum price per kg</th>\n",
              "      <th>Minimum support price (in Rs./Quintal)</th>\n",
              "    </tr>\n",
              "  </thead>\n",
              "  <tbody>\n",
              "    <tr>\n",
              "      <th>0</th>\n",
              "      <td>2020-06-01</td>\n",
              "      <td>CD117</td>\n",
              "      <td>42.65</td>\n",
              "      <td>Moderate</td>\n",
              "      <td>No</td>\n",
              "      <td>Low</td>\n",
              "      <td>68577.0</td>\n",
              "      <td>0</td>\n",
              "      <td>1</td>\n",
              "      <td>4407.0</td>\n",
              "      <td>6144</td>\n",
              "    </tr>\n",
              "    <tr>\n",
              "      <th>1</th>\n",
              "      <td>2013-10-01</td>\n",
              "      <td>CD71</td>\n",
              "      <td>93.96</td>\n",
              "      <td>Abundant</td>\n",
              "      <td>Yes</td>\n",
              "      <td>Short-run</td>\n",
              "      <td>12263.0</td>\n",
              "      <td>0</td>\n",
              "      <td>1</td>\n",
              "      <td>291.0</td>\n",
              "      <td>6564</td>\n",
              "    </tr>\n",
              "    <tr>\n",
              "      <th>2</th>\n",
              "      <td>2017-01-01</td>\n",
              "      <td>CD101</td>\n",
              "      <td>49.28</td>\n",
              "      <td>Moderate</td>\n",
              "      <td>No</td>\n",
              "      <td>Long-run</td>\n",
              "      <td>34924.0</td>\n",
              "      <td>0</td>\n",
              "      <td>1</td>\n",
              "      <td>1973.0</td>\n",
              "      <td>2440</td>\n",
              "    </tr>\n",
              "    <tr>\n",
              "      <th>3</th>\n",
              "      <td>2016-07-01</td>\n",
              "      <td>CD132</td>\n",
              "      <td>61.08</td>\n",
              "      <td>Moderate</td>\n",
              "      <td>No</td>\n",
              "      <td>Long-run</td>\n",
              "      <td>92940.0</td>\n",
              "      <td>1</td>\n",
              "      <td>0</td>\n",
              "      <td>782.0</td>\n",
              "      <td>1546</td>\n",
              "    </tr>\n",
              "    <tr>\n",
              "      <th>4</th>\n",
              "      <td>2014-04-01</td>\n",
              "      <td>CD76</td>\n",
              "      <td>49.91</td>\n",
              "      <td>Low</td>\n",
              "      <td>No</td>\n",
              "      <td>Very-low</td>\n",
              "      <td>64748.0</td>\n",
              "      <td>1</td>\n",
              "      <td>0</td>\n",
              "      <td>1713.0</td>\n",
              "      <td>8749</td>\n",
              "    </tr>\n",
              "  </tbody>\n",
              "</table>\n",
              "</div>"
            ],
            "text/plain": [
              "   Month-year  ... Minimum support price (in Rs./Quintal)\n",
              "0  2020-06-01  ...                                   6144\n",
              "1  2013-10-01  ...                                   6564\n",
              "2  2017-01-01  ...                                   2440\n",
              "3  2016-07-01  ...                                   1546\n",
              "4  2014-04-01  ...                                   8749\n",
              "\n",
              "[5 rows x 11 columns]"
            ]
          },
          "metadata": {
            "tags": []
          },
          "execution_count": 3
        }
      ]
    },
    {
      "cell_type": "code",
      "metadata": {
        "colab": {
          "base_uri": "https://localhost:8080/"
        },
        "id": "BPGOcfgC-WTf",
        "outputId": "a9cf4e80-2c63-45b5-da6b-6d2b8dcf373c"
      },
      "source": [
        "df['Year'] = pd.to_datetime(df['Month-year']).dt.year\n",
        "df['Month'] = pd.to_datetime(df['Month-year']).dt.month\n",
        "df['Day'] = pd.to_datetime(df['Month-year']).dt.dayofweek\n",
        "df['woy'] = pd.to_datetime(df['Month-year']).dt.week"
      ],
      "execution_count": 20,
      "outputs": [
        {
          "output_type": "stream",
          "text": [
            "/usr/local/lib/python3.7/dist-packages/ipykernel_launcher.py:6: FutureWarning: Series.dt.weekofyear and Series.dt.week have been deprecated.  Please use Series.dt.isocalendar().week instead.\n",
            "  \n"
          ],
          "name": "stderr"
        }
      ]
    },
    {
      "cell_type": "code",
      "metadata": {
        "id": "HOlAqyu37v0t"
      },
      "source": [
        "df.drop('Production weight (in million tonnes)',axis=1,inplace=True)\n",
        "df.drop('Labour_availability',axis=1,inplace=True)\n",
        "df.drop('Govt_policy_change',axis=1,inplace=True)\n",
        "df.drop('Demand',axis=1,inplace=True)\n",
        "df.drop('Cost of production',axis=1,inplace=True)\n",
        "df.drop('Climatic factor 1',axis=1,inplace=True)\n",
        "df.drop('Climatic factor 2',axis=1,inplace=True)\n",
        "df.drop('Maximum price per kg',axis=1,inplace=True)\n",
        "df.drop('Month-year',axis=1,inplace=True)"
      ],
      "execution_count": null,
      "outputs": []
    },
    {
      "cell_type": "code",
      "metadata": {
        "colab": {
          "base_uri": "https://localhost:8080/",
          "height": 206
        },
        "id": "8Y6k5CEKAK77",
        "outputId": "31c67d55-7feb-4a36-ad6a-aeb963cebff8"
      },
      "source": [
        "df.head()"
      ],
      "execution_count": 28,
      "outputs": [
        {
          "output_type": "execute_result",
          "data": {
            "text/html": [
              "<div>\n",
              "<style scoped>\n",
              "    .dataframe tbody tr th:only-of-type {\n",
              "        vertical-align: middle;\n",
              "    }\n",
              "\n",
              "    .dataframe tbody tr th {\n",
              "        vertical-align: top;\n",
              "    }\n",
              "\n",
              "    .dataframe thead th {\n",
              "        text-align: right;\n",
              "    }\n",
              "</style>\n",
              "<table border=\"1\" class=\"dataframe\">\n",
              "  <thead>\n",
              "    <tr style=\"text-align: right;\">\n",
              "      <th></th>\n",
              "      <th>CommodityID</th>\n",
              "      <th>Minimum support price (in Rs./Quintal)</th>\n",
              "      <th>Year</th>\n",
              "      <th>Month</th>\n",
              "      <th>Day</th>\n",
              "      <th>woy</th>\n",
              "    </tr>\n",
              "  </thead>\n",
              "  <tbody>\n",
              "    <tr>\n",
              "      <th>0</th>\n",
              "      <td>20</td>\n",
              "      <td>6144</td>\n",
              "      <td>2020</td>\n",
              "      <td>6</td>\n",
              "      <td>0</td>\n",
              "      <td>23</td>\n",
              "    </tr>\n",
              "    <tr>\n",
              "      <th>1</th>\n",
              "      <td>111</td>\n",
              "      <td>6564</td>\n",
              "      <td>2013</td>\n",
              "      <td>10</td>\n",
              "      <td>1</td>\n",
              "      <td>40</td>\n",
              "    </tr>\n",
              "    <tr>\n",
              "      <th>2</th>\n",
              "      <td>3</td>\n",
              "      <td>2440</td>\n",
              "      <td>2017</td>\n",
              "      <td>1</td>\n",
              "      <td>6</td>\n",
              "      <td>52</td>\n",
              "    </tr>\n",
              "    <tr>\n",
              "      <th>3</th>\n",
              "      <td>37</td>\n",
              "      <td>1546</td>\n",
              "      <td>2016</td>\n",
              "      <td>7</td>\n",
              "      <td>4</td>\n",
              "      <td>26</td>\n",
              "    </tr>\n",
              "    <tr>\n",
              "      <th>4</th>\n",
              "      <td>116</td>\n",
              "      <td>8749</td>\n",
              "      <td>2014</td>\n",
              "      <td>4</td>\n",
              "      <td>1</td>\n",
              "      <td>14</td>\n",
              "    </tr>\n",
              "  </tbody>\n",
              "</table>\n",
              "</div>"
            ],
            "text/plain": [
              "   CommodityID  Minimum support price (in Rs./Quintal)  Year  Month  Day  woy\n",
              "0           20                                    6144  2020      6    0   23\n",
              "1          111                                    6564  2013     10    1   40\n",
              "2            3                                    2440  2017      1    6   52\n",
              "3           37                                    1546  2016      7    4   26\n",
              "4          116                                    8749  2014      4    1   14"
            ]
          },
          "metadata": {
            "tags": []
          },
          "execution_count": 28
        }
      ]
    },
    {
      "cell_type": "code",
      "metadata": {
        "colab": {
          "base_uri": "https://localhost:8080/",
          "height": 206
        },
        "id": "yUDiOKNIF9zX",
        "outputId": "345ce465-4fd3-4b24-c535-ce4d58e441d3"
      },
      "source": [
        "df3=pd.read_csv('/content/dataset/commodityID_and_details.csv')\n",
        "df3.head()"
      ],
      "execution_count": 43,
      "outputs": [
        {
          "output_type": "execute_result",
          "data": {
            "text/html": [
              "<div>\n",
              "<style scoped>\n",
              "    .dataframe tbody tr th:only-of-type {\n",
              "        vertical-align: middle;\n",
              "    }\n",
              "\n",
              "    .dataframe tbody tr th {\n",
              "        vertical-align: top;\n",
              "    }\n",
              "\n",
              "    .dataframe thead th {\n",
              "        text-align: right;\n",
              "    }\n",
              "</style>\n",
              "<table border=\"1\" class=\"dataframe\">\n",
              "  <thead>\n",
              "    <tr style=\"text-align: right;\">\n",
              "      <th></th>\n",
              "      <th>CommodityID</th>\n",
              "      <th>Commodity_name</th>\n",
              "    </tr>\n",
              "  </thead>\n",
              "  <tbody>\n",
              "    <tr>\n",
              "      <th>0</th>\n",
              "      <td>CD1</td>\n",
              "      <td>Paddy</td>\n",
              "    </tr>\n",
              "    <tr>\n",
              "      <th>1</th>\n",
              "      <td>CD2</td>\n",
              "      <td>Wheat</td>\n",
              "    </tr>\n",
              "    <tr>\n",
              "      <th>2</th>\n",
              "      <td>CD3</td>\n",
              "      <td>Jowar</td>\n",
              "    </tr>\n",
              "    <tr>\n",
              "      <th>3</th>\n",
              "      <td>CD4</td>\n",
              "      <td>Pearl millet</td>\n",
              "    </tr>\n",
              "    <tr>\n",
              "      <th>4</th>\n",
              "      <td>CD5</td>\n",
              "      <td>Maize</td>\n",
              "    </tr>\n",
              "  </tbody>\n",
              "</table>\n",
              "</div>"
            ],
            "text/plain": [
              "  CommodityID Commodity_name\n",
              "0         CD1          Paddy\n",
              "1         CD2          Wheat\n",
              "2         CD3          Jowar\n",
              "3         CD4   Pearl millet\n",
              "4         CD5          Maize"
            ]
          },
          "metadata": {
            "tags": []
          },
          "execution_count": 43
        }
      ]
    },
    {
      "cell_type": "code",
      "metadata": {
        "colab": {
          "base_uri": "https://localhost:8080/",
          "height": 206
        },
        "id": "WSQ-XGwIHnFw",
        "outputId": "bb3e0d37-a75e-488d-8e69-0ba60ee32449"
      },
      "source": [
        "df2=pd.read_csv('/content/dataset/test.csv')\n",
        "df2.head()"
      ],
      "execution_count": 42,
      "outputs": [
        {
          "output_type": "execute_result",
          "data": {
            "text/html": [
              "<div>\n",
              "<style scoped>\n",
              "    .dataframe tbody tr th:only-of-type {\n",
              "        vertical-align: middle;\n",
              "    }\n",
              "\n",
              "    .dataframe tbody tr th {\n",
              "        vertical-align: top;\n",
              "    }\n",
              "\n",
              "    .dataframe thead th {\n",
              "        text-align: right;\n",
              "    }\n",
              "</style>\n",
              "<table border=\"1\" class=\"dataframe\">\n",
              "  <thead>\n",
              "    <tr style=\"text-align: right;\">\n",
              "      <th></th>\n",
              "      <th>Month-year</th>\n",
              "      <th>Commodity_name</th>\n",
              "    </tr>\n",
              "  </thead>\n",
              "  <tbody>\n",
              "    <tr>\n",
              "      <th>0</th>\n",
              "      <td>2020-03-02</td>\n",
              "      <td>Tomato</td>\n",
              "    </tr>\n",
              "    <tr>\n",
              "      <th>1</th>\n",
              "      <td>2021-05-20</td>\n",
              "      <td>Radish</td>\n",
              "    </tr>\n",
              "    <tr>\n",
              "      <th>2</th>\n",
              "      <td>2020-10-27</td>\n",
              "      <td>Spray Chrysanthemum</td>\n",
              "    </tr>\n",
              "    <tr>\n",
              "      <th>3</th>\n",
              "      <td>2021-12-22</td>\n",
              "      <td>Brinjal</td>\n",
              "    </tr>\n",
              "    <tr>\n",
              "      <th>4</th>\n",
              "      <td>2021-10-14</td>\n",
              "      <td>Ginger</td>\n",
              "    </tr>\n",
              "  </tbody>\n",
              "</table>\n",
              "</div>"
            ],
            "text/plain": [
              "   Month-year       Commodity_name\n",
              "0  2020-03-02               Tomato\n",
              "1  2021-05-20               Radish\n",
              "2  2020-10-27  Spray Chrysanthemum\n",
              "3  2021-12-22              Brinjal\n",
              "4  2021-10-14               Ginger"
            ]
          },
          "metadata": {
            "tags": []
          },
          "execution_count": 42
        }
      ]
    },
    {
      "cell_type": "code",
      "metadata": {
        "id": "VWjp5SbfITlE",
        "colab": {
          "base_uri": "https://localhost:8080/",
          "height": 206
        },
        "outputId": "6f67efff-7433-49bb-9d6b-c5bf89f7837a"
      },
      "source": [
        "df4=pd.merge(df2,df3,on=['Commodity_name'])\n",
        "df4.head()"
      ],
      "execution_count": 44,
      "outputs": [
        {
          "output_type": "execute_result",
          "data": {
            "text/html": [
              "<div>\n",
              "<style scoped>\n",
              "    .dataframe tbody tr th:only-of-type {\n",
              "        vertical-align: middle;\n",
              "    }\n",
              "\n",
              "    .dataframe tbody tr th {\n",
              "        vertical-align: top;\n",
              "    }\n",
              "\n",
              "    .dataframe thead th {\n",
              "        text-align: right;\n",
              "    }\n",
              "</style>\n",
              "<table border=\"1\" class=\"dataframe\">\n",
              "  <thead>\n",
              "    <tr style=\"text-align: right;\">\n",
              "      <th></th>\n",
              "      <th>Month-year</th>\n",
              "      <th>Commodity_name</th>\n",
              "      <th>CommodityID</th>\n",
              "    </tr>\n",
              "  </thead>\n",
              "  <tbody>\n",
              "    <tr>\n",
              "      <th>0</th>\n",
              "      <td>2020-03-02</td>\n",
              "      <td>Tomato</td>\n",
              "      <td>CD18</td>\n",
              "    </tr>\n",
              "    <tr>\n",
              "      <th>1</th>\n",
              "      <td>2021-05-20</td>\n",
              "      <td>Radish</td>\n",
              "      <td>CD24</td>\n",
              "    </tr>\n",
              "    <tr>\n",
              "      <th>2</th>\n",
              "      <td>2020-10-27</td>\n",
              "      <td>Spray Chrysanthemum</td>\n",
              "      <td>CD134</td>\n",
              "    </tr>\n",
              "    <tr>\n",
              "      <th>3</th>\n",
              "      <td>2021-12-22</td>\n",
              "      <td>Brinjal</td>\n",
              "      <td>CD20</td>\n",
              "    </tr>\n",
              "    <tr>\n",
              "      <th>4</th>\n",
              "      <td>2021-10-14</td>\n",
              "      <td>Ginger</td>\n",
              "      <td>CD16</td>\n",
              "    </tr>\n",
              "  </tbody>\n",
              "</table>\n",
              "</div>"
            ],
            "text/plain": [
              "   Month-year       Commodity_name CommodityID\n",
              "0  2020-03-02               Tomato        CD18\n",
              "1  2021-05-20               Radish        CD24\n",
              "2  2020-10-27  Spray Chrysanthemum       CD134\n",
              "3  2021-12-22              Brinjal        CD20\n",
              "4  2021-10-14               Ginger        CD16"
            ]
          },
          "metadata": {
            "tags": []
          },
          "execution_count": 44
        }
      ]
    },
    {
      "cell_type": "code",
      "metadata": {
        "colab": {
          "base_uri": "https://localhost:8080/"
        },
        "id": "2sUNnY12Iua1",
        "outputId": "49e15c36-aa25-4ca0-92dc-a5676cf112a0"
      },
      "source": [
        "df4['Year'] = pd.to_datetime(df4['Month-year']).dt.year\n",
        "df4['Month'] = pd.to_datetime(df4['Month-year']).dt.month\n",
        "df4['Day'] = pd.to_datetime(df4['Month-year']).dt.dayofweek\n",
        "df4['woy'] = pd.to_datetime(df4['Month-year']).dt.week\n"
      ],
      "execution_count": 46,
      "outputs": [
        {
          "output_type": "stream",
          "text": [
            "/usr/local/lib/python3.7/dist-packages/ipykernel_launcher.py:4: FutureWarning: Series.dt.weekofyear and Series.dt.week have been deprecated.  Please use Series.dt.isocalendar().week instead.\n",
            "  after removing the cwd from sys.path.\n"
          ],
          "name": "stderr"
        }
      ]
    },
    {
      "cell_type": "code",
      "metadata": {
        "id": "lz32yMIMJvv2"
      },
      "source": [
        "df4.drop('Commodity_name',axis=1,inplace=True)\n",
        "df4['CommodityID']=y.fit_transform(df4['CommodityID'])"
      ],
      "execution_count": 48,
      "outputs": []
    },
    {
      "cell_type": "code",
      "metadata": {
        "id": "TdfnkoyILXa1"
      },
      "source": [
        "df.drop('Production weight (in million tonnes)',axis=1,inplace=True)\n",
        "df.drop('Labour_availability',axis=1,inplace=True)\n",
        "df.drop('Govt_policy_change',axis=1,inplace=True)\n",
        "df.drop('Demand',axis=1,inplace=True)\n",
        "df.drop('Cost of production',axis=1,inplace=True)\n",
        "df.drop('Climatic factor 1',axis=1,inplace=True)\n",
        "#df.drop('cloud_level',axis=1,inplace=True)\n",
        "df.drop('Climatic factor 2',axis=1,inplace=True)\n",
        "df.drop('Maximum price per kg',axis=1,inplace=True)\n",
        "df.drop('Month-year',axis=1,inplace=True)"
      ],
      "execution_count": 21,
      "outputs": []
    },
    {
      "cell_type": "code",
      "metadata": {
        "id": "y9UaK9cg775B"
      },
      "source": [
        "y=LabelEncoder()"
      ],
      "execution_count": null,
      "outputs": []
    },
    {
      "cell_type": "code",
      "metadata": {
        "id": "VwbP3N7r01Tl"
      },
      "source": [
        "df['CommodityID']=y.fit_transform(df['CommodityID'])"
      ],
      "execution_count": 27,
      "outputs": []
    },
    {
      "cell_type": "code",
      "metadata": {
        "colab": {
          "base_uri": "https://localhost:8080/",
          "height": 287
        },
        "id": "NtEVY2fzQEQo",
        "outputId": "7951df7e-e023-46e3-bbce-d65dda8f7570"
      },
      "source": [
        "import seaborn as sns\n",
        "sns.heatmap(df.corr(),annot=True)"
      ],
      "execution_count": 67,
      "outputs": [
        {
          "output_type": "execute_result",
          "data": {
            "text/plain": [
              "<matplotlib.axes._subplots.AxesSubplot at 0x7f093ce6b1d0>"
            ]
          },
          "metadata": {
            "tags": []
          },
          "execution_count": 67
        },
        {
          "output_type": "display_data",
          "data": {
            "image/png": "[encoded data removed]",
            "text/plain": [
              "<Figure size 432x288 with 2 Axes>"
            ]
          },
          "metadata": {
            "tags": [],
            "needs_background": "light"
          }
        }
      ]
    },
    {
      "cell_type": "code",
      "metadata": {
        "id": "KRISL-7HkHJ7"
      },
      "source": [
        "df1=df['Minimum support price (in Rs./Quintal)']\n",
        "df.drop(\"Minimum support price (in Rs./Quintal)\", axis = 1, inplace = True)\n"
      ],
      "execution_count": 30,
      "outputs": []
    },
    {
      "cell_type": "code",
      "metadata": {
        "id": "jJ1HJkEfkwH-"
      },
      "source": [
        "from sklearn.metrics import mean_squared_error,r2_score,mean_squared_log_error\n",
        "from sklearn.ensemble import RandomForestRegressor,ExtraTreesRegressor,GradientBoostingRegressor\n",
        "from sklearn.model_selection import train_test_split\n",
        "from sklearn.preprocessing import LabelEncoder\n",
        "from lightgbm import LGBMRegressor\n",
        "from xgboost import XGBRegressor\n",
        "from sklearn.neighbors import KNeighborsRegressor\n",
        "from sklearn.svm import SVR\n"
      ],
      "execution_count": 56,
      "outputs": []
    },
    {
      "cell_type": "code",
      "metadata": {
        "id": "0P3yitAIlC5-"
      },
      "source": [
        "train_x,test_x,train_y,test_y=train_test_split(df,df1,test_size=0.25,random_state=2,shuffle=True)"
      ],
      "execution_count": 31,
      "outputs": []
    },
    {
      "cell_type": "code",
      "metadata": {
        "colab": {
          "base_uri": "https://localhost:8080/"
        },
        "id": "Oe3cmraOlf1T",
        "outputId": "c3e80994-a352-4f06-9e4c-43fc4be2d575"
      },
      "source": [
        "model=LGBMRegressor()\n",
        "model.fit(train_x,train_y)\n",
        "o=model.predict(test_x)\n",
        "print(100*max(0,1-mean_squared_log_error(test_y,o)))\n"
      ],
      "execution_count": 69,
      "outputs": [
        {
          "output_type": "stream",
          "text": [
            "73.17460422724696\n"
          ],
          "name": "stdout"
        }
      ]
    },
    {
      "cell_type": "code",
      "metadata": {
        "colab": {
          "base_uri": "https://localhost:8080/",
          "height": 206
        },
        "id": "Ygd74rO0qrB8",
        "outputId": "9945bf8e-da3d-4c2c-c952-a1cab0ac9757"
      },
      "source": [
        "df7=pd.DataFrame(pre)\n",
        "df7.head()"
      ],
      "execution_count": 61,
      "outputs": [
        {
          "output_type": "execute_result",
          "data": {
            "text/html": [
              "<div>\n",
              "<style scoped>\n",
              "    .dataframe tbody tr th:only-of-type {\n",
              "        vertical-align: middle;\n",
              "    }\n",
              "\n",
              "    .dataframe tbody tr th {\n",
              "        vertical-align: top;\n",
              "    }\n",
              "\n",
              "    .dataframe thead th {\n",
              "        text-align: right;\n",
              "    }\n",
              "</style>\n",
              "<table border=\"1\" class=\"dataframe\">\n",
              "  <thead>\n",
              "    <tr style=\"text-align: right;\">\n",
              "      <th></th>\n",
              "      <th>Month-year</th>\n",
              "      <th>Commodity_name</th>\n",
              "      <th>Minimum support price (in Rs./Quintal)</th>\n",
              "    </tr>\n",
              "  </thead>\n",
              "  <tbody>\n",
              "    <tr>\n",
              "      <th>0</th>\n",
              "      <td>2020-03-02</td>\n",
              "      <td>Tomato</td>\n",
              "      <td>5818.339632</td>\n",
              "    </tr>\n",
              "    <tr>\n",
              "      <th>1</th>\n",
              "      <td>2021-05-20</td>\n",
              "      <td>Radish</td>\n",
              "      <td>5139.850841</td>\n",
              "    </tr>\n",
              "    <tr>\n",
              "      <th>2</th>\n",
              "      <td>2020-10-27</td>\n",
              "      <td>Spray Chrysanthemum</td>\n",
              "      <td>4759.299370</td>\n",
              "    </tr>\n",
              "    <tr>\n",
              "      <th>3</th>\n",
              "      <td>2021-12-22</td>\n",
              "      <td>Brinjal</td>\n",
              "      <td>5420.242788</td>\n",
              "    </tr>\n",
              "    <tr>\n",
              "      <th>4</th>\n",
              "      <td>2021-10-14</td>\n",
              "      <td>Ginger</td>\n",
              "      <td>4797.529178</td>\n",
              "    </tr>\n",
              "  </tbody>\n",
              "</table>\n",
              "</div>"
            ],
            "text/plain": [
              "   Month-year       Commodity_name  Minimum support price (in Rs./Quintal)\n",
              "0  2020-03-02               Tomato                             5818.339632\n",
              "1  2021-05-20               Radish                             5139.850841\n",
              "2  2020-10-27  Spray Chrysanthemum                             4759.299370\n",
              "3  2021-12-22              Brinjal                             5420.242788\n",
              "4  2021-10-14               Ginger                             4797.529178"
            ]
          },
          "metadata": {
            "tags": []
          },
          "execution_count": 61
        }
      ]
    },
    {
      "cell_type": "code",
      "metadata": {
        "id": "X-W1yhDd14wN"
      },
      "source": [
        "df7.to_csv('tiktok1.csv')"
      ],
      "execution_count": 62,
      "outputs": []
    }
  ]
}